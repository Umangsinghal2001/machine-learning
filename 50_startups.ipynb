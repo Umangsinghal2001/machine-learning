{
 "cells": [
  {
   "cell_type": "code",
   "execution_count": 1,
   "id": "5dc0fe70-57b3-4844-aa6b-86e34dd5b1e3",
   "metadata": {},
   "outputs": [],
   "source": [
    "import pandas as pd\n",
    "import numpy as np\n",
    "import matplotlib.pylab as mlt\n",
    "import seaborn as sns"
   ]
  },
  {
   "cell_type": "code",
   "execution_count": 2,
   "id": "89b53165-fd9d-4f3c-80c2-d20c0285757c",
   "metadata": {},
   "outputs": [],
   "source": [
    "x=np.random.normal(0,2,40)"
   ]
  },
  {
   "cell_type": "code",
   "execution_count": null,
   "id": "2bb89140-4bde-4c1e-843d-ec0d36e36f66",
   "metadata": {},
   "outputs": [],
   "source": []
  },
  {
   "cell_type": "code",
   "execution_count": 3,
   "id": "0eb72fc8-a6c5-4590-9350-e1a9b7067cea",
   "metadata": {},
   "outputs": [
    {
     "data": {
      "text/plain": [
       "<matplotlib.collections.PathCollection at 0x17889b2afd0>"
      ]
     },
     "execution_count": 3,
     "metadata": {},
     "output_type": "execute_result"
    },
    {
     "data": {
      "image/png": "[encoded data removed]",
      "text/plain": [
       "<Figure size 432x288 with 1 Axes>"
      ]
     },
     "metadata": {
      "needs_background": "light"
     },
     "output_type": "display_data"
    }
   ],
   "source": [
    "y=x+6*(x**2)+0.6*(x**3)+ np.random.normal(0,1,40)\n",
    "mlt.scatter(x,y)"
   ]
  },
  {
   "cell_type": "code",
   "execution_count": 4,
   "id": "43338542-ad81-43cc-b2bd-4a280e7d17c2",
   "metadata": {},
   "outputs": [],
   "source": [
    "y=y[:,np.newaxis]\n",
    "x=x[:,np.newaxis]"
   ]
  },
  {
   "cell_type": "code",
   "execution_count": null,
   "id": "264a794b-f9f7-4406-a7cb-4efcbbea71e9",
   "metadata": {},
   "outputs": [],
   "source": []
  },
  {
   "cell_type": "code",
   "execution_count": 5,
   "id": "041ebbe6-d3d3-458d-bbf8-f09de04acdd9",
   "metadata": {},
   "outputs": [],
   "source": [
    "from sklearn.linear_model import LinearRegression"
   ]
  },
  {
   "cell_type": "code",
   "execution_count": 6,
   "id": "c41c657b-4a82-4b79-8e7a-67c207951eb0",
   "metadata": {},
   "outputs": [],
   "source": [
    "model1= LinearRegression().fit(x,y)"
   ]
  },
  {
   "cell_type": "code",
   "execution_count": 7,
   "id": "c967d086-116c-4809-9016-5430f19a688d",
   "metadata": {},
   "outputs": [],
   "source": [
    "ypred=model1.predict(x)\n"
   ]
  },
  {
   "cell_type": "code",
   "execution_count": 8,
   "id": "b54521a1-c687-4d35-bbbb-fc7e92c01314",
   "metadata": {},
   "outputs": [
    {
     "data": {
      "text/plain": [
       "0.19212071988297663"
      ]
     },
     "execution_count": 8,
     "metadata": {},
     "output_type": "execute_result"
    }
   ],
   "source": [
    "model1.score(x,y)"
   ]
  },
  {
   "cell_type": "code",
   "execution_count": 9,
   "id": "d7475e16-706e-4e37-bcdd-2e5b45dd3ab8",
   "metadata": {},
   "outputs": [
    {
     "data": {
      "text/plain": [
       "[<matplotlib.lines.Line2D at 0x1788ba6f5e0>]"
      ]
     },
     "execution_count": 9,
     "metadata": {},
     "output_type": "execute_result"
    },
    {
     "data": {
      "image/png": "[encoded data removed]",
      "text/plain": [
       "<Figure size 720x432 with 1 Axes>"
      ]
     },
     "metadata": {
      "needs_background": "light"
     },
     "output_type": "display_data"
    }
   ],
   "source": [
    "mlt.figure(figsize=(10,6))\n",
    "mlt.scatter(x,y)\n",
    "mlt.plot(x,ypred,c='g')"
   ]
  },
  {
   "cell_type": "code",
   "execution_count": 10,
   "id": "7fc83e20-2cd0-41d1-8460-6255f3c2127f",
   "metadata": {},
   "outputs": [],
   "source": [
    "from sklearn import preprocessing as pp\n"
   ]
  },
  {
   "cell_type": "code",
   "execution_count": 11,
   "id": "10e648bf-1a99-4a71-b857-706a758e1dd2",
   "metadata": {},
   "outputs": [],
   "source": [
    "x_poly=pp.PolynomialFeatures().fit_transform(x)"
   ]
  },
  {
   "cell_type": "code",
   "execution_count": 12,
   "id": "ecc5b401-5097-401b-9381-90629784b94e",
   "metadata": {},
   "outputs": [],
   "source": [
    "model2=LinearRegression().fit(x_poly,y)\n",
    "ypred_d1=model2.predict(x_poly)"
   ]
  },
  {
   "cell_type": "code",
   "execution_count": 13,
   "id": "d60928a9-9fab-466e-857e-dcb2ba8ef98c",
   "metadata": {},
   "outputs": [
    {
     "data": {
      "text/plain": [
       "0.9692688717646626"
      ]
     },
     "execution_count": 13,
     "metadata": {},
     "output_type": "execute_result"
    }
   ],
   "source": [
    "model2.score(x_poly,y)"
   ]
  },
  {
   "cell_type": "code",
   "execution_count": null,
   "id": "1c6229d8-2be8-48cb-979e-94516fb04f14",
   "metadata": {},
   "outputs": [],
   "source": []
  },
  {
   "cell_type": "code",
   "execution_count": 14,
   "id": "2c156a5e-1319-4f70-afa0-c7f956c24666",
   "metadata": {},
   "outputs": [
    {
     "data": {
      "text/plain": [
       "<matplotlib.collections.PathCollection at 0x1788bad2df0>"
      ]
     },
     "execution_count": 14,
     "metadata": {},
     "output_type": "execute_result"
    },
    {
     "data": {
      "image/png": "[encoded data removed]",
      "text/plain": [
       "<Figure size 720x432 with 1 Axes>"
      ]
     },
     "metadata": {
      "needs_background": "light"
     },
     "output_type": "display_data"
    }
   ],
   "source": [
    "mlt.figure(figsize=(10,6))\n",
    "mlt.scatter(x,y)\n",
    "mlt.scatter(x,ypred_d1)"
   ]
  },
  {
   "cell_type": "code",
   "execution_count": 15,
   "id": "45ed3286-6543-417c-8fee-c389a209a54a",
   "metadata": {},
   "outputs": [],
   "source": [
    "data=pd.read_csv(\"50_Startups.csv\")"
   ]
  },
  {
   "cell_type": "code",
   "execution_count": 16,
   "id": "378d6793-01f6-4a79-a0ab-3cf98670efc3",
   "metadata": {},
   "outputs": [
    {
     "data": {
      "text/html": [
       "<div>\n",
       "<style scoped>\n",
       "    .dataframe tbody tr th:only-of-type {\n",
       "        vertical-align: middle;\n",
       "    }\n",
       "\n",
       "    .dataframe tbody tr th {\n",
       "        vertical-align: top;\n",
       "    }\n",
       "\n",
       "    .dataframe thead th {\n",
       "        text-align: right;\n",
       "    }\n",
       "</style>\n",
       "<table border=\"1\" class=\"dataframe\">\n",
       "  <thead>\n",
       "    <tr style=\"text-align: right;\">\n",
       "      <th></th>\n",
       "      <th>R&amp;D Spend</th>\n",
       "      <th>Administration</th>\n",
       "      <th>Marketing Spend</th>\n",
       "      <th>State</th>\n",
       "      <th>Profit</th>\n",
       "    </tr>\n",
       "  </thead>\n",
       "  <tbody>\n",
       "    <tr>\n",
       "      <th>0</th>\n",
       "      <td>165349.20</td>\n",
       "      <td>136897.80</td>\n",
       "      <td>471784.10</td>\n",
       "      <td>New York</td>\n",
       "      <td>192261.83</td>\n",
       "    </tr>\n",
       "    <tr>\n",
       "      <th>1</th>\n",
       "      <td>162597.70</td>\n",
       "      <td>151377.59</td>\n",
       "      <td>443898.53</td>\n",
       "      <td>California</td>\n",
       "      <td>191792.06</td>\n",
       "    </tr>\n",
       "    <tr>\n",
       "      <th>2</th>\n",
       "      <td>153441.51</td>\n",
       "      <td>101145.55</td>\n",
       "      <td>407934.54</td>\n",
       "      <td>Florida</td>\n",
       "      <td>191050.39</td>\n",
       "    </tr>\n",
       "    <tr>\n",
       "      <th>3</th>\n",
       "      <td>144372.41</td>\n",
       "      <td>118671.85</td>\n",
       "      <td>383199.62</td>\n",
       "      <td>New York</td>\n",
       "      <td>182901.99</td>\n",
       "    </tr>\n",
       "    <tr>\n",
       "      <th>4</th>\n",
       "      <td>142107.34</td>\n",
       "      <td>91391.77</td>\n",
       "      <td>366168.42</td>\n",
       "      <td>Florida</td>\n",
       "      <td>166187.94</td>\n",
       "    </tr>\n",
       "  </tbody>\n",
       "</table>\n",
       "</div>"
      ],
      "text/plain": [
       "   R&D Spend  Administration  Marketing Spend       State     Profit\n",
       "0  165349.20       136897.80        471784.10    New York  192261.83\n",
       "1  162597.70       151377.59        443898.53  California  191792.06\n",
       "2  153441.51       101145.55        407934.54     Florida  191050.39\n",
       "3  144372.41       118671.85        383199.62    New York  182901.99\n",
       "4  142107.34        91391.77        366168.42     Florida  166187.94"
      ]
     },
     "execution_count": 16,
     "metadata": {},
     "output_type": "execute_result"
    }
   ],
   "source": [
    "data.head()\n"
   ]
  },
  {
   "cell_type": "code",
   "execution_count": 17,
   "id": "cbb29255-0631-494c-ab54-aae62feadc0c",
   "metadata": {},
   "outputs": [
    {
     "data": {
      "text/plain": [
       "<seaborn.axisgrid.PairGrid at 0x1788baf2310>"
      ]
     },
     "execution_count": 17,
     "metadata": {},
     "output_type": "execute_result"
    },
    {
     "data": {
      "image/png": "[encoded data removed]",
      "text/plain": [
       "<Figure size 720x720 with 20 Axes>"
      ]
     },
     "metadata": {
      "needs_background": "light"
     },
     "output_type": "display_data"
    }
   ],
   "source": [
    "sns.pairplot(data,)"
   ]
  },
  {
   "cell_type": "code",
   "execution_count": 25,
   "id": "ae717836-cda4-4ace-b557-0c2dc4da7b35",
   "metadata": {},
   "outputs": [],
   "source": [
    "data_proc=pd.concat([data,data[\"State\"].str.get_dummies()],axis=1)\n"
   ]
  },
  {
   "cell_type": "code",
   "execution_count": 26,
   "id": "79b97d9a-64d0-40e1-8ac6-089478d69146",
   "metadata": {},
   "outputs": [
    {
     "data": {
      "text/html": [
       "<div>\n",
       "<style scoped>\n",
       "    .dataframe tbody tr th:only-of-type {\n",
       "        vertical-align: middle;\n",
       "    }\n",
       "\n",
       "    .dataframe tbody tr th {\n",
       "        vertical-align: top;\n",
       "    }\n",
       "\n",
       "    .dataframe thead th {\n",
       "        text-align: right;\n",
       "    }\n",
       "</style>\n",
       "<table border=\"1\" class=\"dataframe\">\n",
       "  <thead>\n",
       "    <tr style=\"text-align: right;\">\n",
       "      <th></th>\n",
       "      <th>R&amp;D Spend</th>\n",
       "      <th>Administration</th>\n",
       "      <th>Marketing Spend</th>\n",
       "      <th>California</th>\n",
       "      <th>Florida</th>\n",
       "      <th>New York</th>\n",
       "    </tr>\n",
       "  </thead>\n",
       "  <tbody>\n",
       "    <tr>\n",
       "      <th>0</th>\n",
       "      <td>165349.20</td>\n",
       "      <td>136897.80</td>\n",
       "      <td>471784.10</td>\n",
       "      <td>0</td>\n",
       "      <td>0</td>\n",
       "      <td>1</td>\n",
       "    </tr>\n",
       "    <tr>\n",
       "      <th>1</th>\n",
       "      <td>162597.70</td>\n",
       "      <td>151377.59</td>\n",
       "      <td>443898.53</td>\n",
       "      <td>1</td>\n",
       "      <td>0</td>\n",
       "      <td>0</td>\n",
       "    </tr>\n",
       "    <tr>\n",
       "      <th>2</th>\n",
       "      <td>153441.51</td>\n",
       "      <td>101145.55</td>\n",
       "      <td>407934.54</td>\n",
       "      <td>0</td>\n",
       "      <td>1</td>\n",
       "      <td>0</td>\n",
       "    </tr>\n",
       "    <tr>\n",
       "      <th>3</th>\n",
       "      <td>144372.41</td>\n",
       "      <td>118671.85</td>\n",
       "      <td>383199.62</td>\n",
       "      <td>0</td>\n",
       "      <td>0</td>\n",
       "      <td>1</td>\n",
       "    </tr>\n",
       "    <tr>\n",
       "      <th>4</th>\n",
       "      <td>142107.34</td>\n",
       "      <td>91391.77</td>\n",
       "      <td>366168.42</td>\n",
       "      <td>0</td>\n",
       "      <td>1</td>\n",
       "      <td>0</td>\n",
       "    </tr>\n",
       "  </tbody>\n",
       "</table>\n",
       "</div>"
      ],
      "text/plain": [
       "   R&D Spend  Administration  Marketing Spend  California  Florida  New York\n",
       "0  165349.20       136897.80        471784.10           0        0         1\n",
       "1  162597.70       151377.59        443898.53           1        0         0\n",
       "2  153441.51       101145.55        407934.54           0        1         0\n",
       "3  144372.41       118671.85        383199.62           0        0         1\n",
       "4  142107.34        91391.77        366168.42           0        1         0"
      ]
     },
     "execution_count": 26,
     "metadata": {},
     "output_type": "execute_result"
    }
   ],
   "source": [
    "x_sta=data_proc.drop([\"Profit\",\"State\"],axis=1)\n",
    "x_sta.head()"
   ]
  },
  {
   "cell_type": "code",
   "execution_count": 21,
   "id": "23ecd9ae-02df-4a4d-94ca-6403ed65be39",
   "metadata": {},
   "outputs": [],
   "source": [
    "y_sta=data[\"Profit\"]"
   ]
  },
  {
   "cell_type": "code",
   "execution_count": 27,
   "id": "8fbda2fc-0df1-4fe7-94ac-fa5411aa4f9d",
   "metadata": {},
   "outputs": [],
   "source": [
    "model_new=LinearRegression().fit(x_sta,y_sta)"
   ]
  },
  {
   "cell_type": "code",
   "execution_count": 32,
   "id": "5d24a54d-3e66-499d-879c-5187a5add066",
   "metadata": {},
   "outputs": [
    {
     "data": {
      "text/plain": [
       "0.9507524843355148"
      ]
     },
     "execution_count": 32,
     "metadata": {},
     "output_type": "execute_result"
    }
   ],
   "source": [
    "model_new.score(x_sta,y_sta)"
   ]
  },
  {
   "cell_type": "code",
   "execution_count": null,
   "id": "66b1b59a-4bea-4cbb-a0fa-bf03a935bd9f",
   "metadata": {},
   "outputs": [],
   "source": []
  },
  {
   "cell_type": "code",
   "execution_count": 33,
   "id": "af4c5dcb-1998-4c8a-a1cd-ff392d0759c3",
   "metadata": {},
   "outputs": [],
   "source": [
    "rnd = pd.DataFrame(pp.PolynomialFeatures(3).fit_transform(data_proc[['R&D Spend']]),columns=['rnd0','rnd1','rnd2','rnd3'])"
   ]
  },
  {
   "cell_type": "code",
   "execution_count": 34,
   "id": "f66f456f-c972-4b1c-b66e-c8d755d57d92",
   "metadata": {},
   "outputs": [],
   "source": [
    "ms = pd.DataFrame(pp.PolynomialFeatures(3).fit_transform(data_proc[['Marketing Spend']]),columns=['ms0','ms1','ms2','ms3'])"
   ]
  },
  {
   "cell_type": "code",
   "execution_count": 35,
   "id": "4f85e398-3937-4015-9142-18b1d6fde5b4",
   "metadata": {},
   "outputs": [
    {
     "data": {
      "text/html": [
       "<div>\n",
       "<style scoped>\n",
       "    .dataframe tbody tr th:only-of-type {\n",
       "        vertical-align: middle;\n",
       "    }\n",
       "\n",
       "    .dataframe tbody tr th {\n",
       "        vertical-align: top;\n",
       "    }\n",
       "\n",
       "    .dataframe thead th {\n",
       "        text-align: right;\n",
       "    }\n",
       "</style>\n",
       "<table border=\"1\" class=\"dataframe\">\n",
       "  <thead>\n",
       "    <tr style=\"text-align: right;\">\n",
       "      <th></th>\n",
       "      <th>rnd0</th>\n",
       "      <th>rnd1</th>\n",
       "      <th>rnd2</th>\n",
       "      <th>rnd3</th>\n",
       "    </tr>\n",
       "  </thead>\n",
       "  <tbody>\n",
       "    <tr>\n",
       "      <th>0</th>\n",
       "      <td>1.0</td>\n",
       "      <td>165349.20</td>\n",
       "      <td>2.734036e+10</td>\n",
       "      <td>4.520706e+15</td>\n",
       "    </tr>\n",
       "    <tr>\n",
       "      <th>1</th>\n",
       "      <td>1.0</td>\n",
       "      <td>162597.70</td>\n",
       "      <td>2.643801e+10</td>\n",
       "      <td>4.298760e+15</td>\n",
       "    </tr>\n",
       "    <tr>\n",
       "      <th>2</th>\n",
       "      <td>1.0</td>\n",
       "      <td>153441.51</td>\n",
       "      <td>2.354430e+10</td>\n",
       "      <td>3.612672e+15</td>\n",
       "    </tr>\n",
       "    <tr>\n",
       "      <th>3</th>\n",
       "      <td>1.0</td>\n",
       "      <td>144372.41</td>\n",
       "      <td>2.084339e+10</td>\n",
       "      <td>3.009211e+15</td>\n",
       "    </tr>\n",
       "    <tr>\n",
       "      <th>4</th>\n",
       "      <td>1.0</td>\n",
       "      <td>142107.34</td>\n",
       "      <td>2.019450e+10</td>\n",
       "      <td>2.869786e+15</td>\n",
       "    </tr>\n",
       "    <tr>\n",
       "      <th>5</th>\n",
       "      <td>1.0</td>\n",
       "      <td>131876.90</td>\n",
       "      <td>1.739152e+10</td>\n",
       "      <td>2.293539e+15</td>\n",
       "    </tr>\n",
       "    <tr>\n",
       "      <th>6</th>\n",
       "      <td>1.0</td>\n",
       "      <td>134615.46</td>\n",
       "      <td>1.812132e+10</td>\n",
       "      <td>2.439410e+15</td>\n",
       "    </tr>\n",
       "    <tr>\n",
       "      <th>7</th>\n",
       "      <td>1.0</td>\n",
       "      <td>130298.13</td>\n",
       "      <td>1.697760e+10</td>\n",
       "      <td>2.212150e+15</td>\n",
       "    </tr>\n",
       "    <tr>\n",
       "      <th>8</th>\n",
       "      <td>1.0</td>\n",
       "      <td>120542.52</td>\n",
       "      <td>1.453050e+10</td>\n",
       "      <td>1.751543e+15</td>\n",
       "    </tr>\n",
       "    <tr>\n",
       "      <th>9</th>\n",
       "      <td>1.0</td>\n",
       "      <td>123334.88</td>\n",
       "      <td>1.521149e+10</td>\n",
       "      <td>1.876108e+15</td>\n",
       "    </tr>\n",
       "    <tr>\n",
       "      <th>10</th>\n",
       "      <td>1.0</td>\n",
       "      <td>101913.08</td>\n",
       "      <td>1.038628e+10</td>\n",
       "      <td>1.058497e+15</td>\n",
       "    </tr>\n",
       "    <tr>\n",
       "      <th>11</th>\n",
       "      <td>1.0</td>\n",
       "      <td>100671.96</td>\n",
       "      <td>1.013484e+10</td>\n",
       "      <td>1.020295e+15</td>\n",
       "    </tr>\n",
       "    <tr>\n",
       "      <th>12</th>\n",
       "      <td>1.0</td>\n",
       "      <td>93863.75</td>\n",
       "      <td>8.810404e+09</td>\n",
       "      <td>8.269775e+14</td>\n",
       "    </tr>\n",
       "    <tr>\n",
       "      <th>13</th>\n",
       "      <td>1.0</td>\n",
       "      <td>91992.39</td>\n",
       "      <td>8.462600e+09</td>\n",
       "      <td>7.784948e+14</td>\n",
       "    </tr>\n",
       "    <tr>\n",
       "      <th>14</th>\n",
       "      <td>1.0</td>\n",
       "      <td>119943.24</td>\n",
       "      <td>1.438638e+10</td>\n",
       "      <td>1.725549e+15</td>\n",
       "    </tr>\n",
       "    <tr>\n",
       "      <th>15</th>\n",
       "      <td>1.0</td>\n",
       "      <td>114523.61</td>\n",
       "      <td>1.311566e+10</td>\n",
       "      <td>1.502052e+15</td>\n",
       "    </tr>\n",
       "    <tr>\n",
       "      <th>16</th>\n",
       "      <td>1.0</td>\n",
       "      <td>78013.11</td>\n",
       "      <td>6.086045e+09</td>\n",
       "      <td>4.747913e+14</td>\n",
       "    </tr>\n",
       "    <tr>\n",
       "      <th>17</th>\n",
       "      <td>1.0</td>\n",
       "      <td>94657.16</td>\n",
       "      <td>8.959978e+09</td>\n",
       "      <td>8.481261e+14</td>\n",
       "    </tr>\n",
       "    <tr>\n",
       "      <th>18</th>\n",
       "      <td>1.0</td>\n",
       "      <td>91749.16</td>\n",
       "      <td>8.417908e+09</td>\n",
       "      <td>7.723360e+14</td>\n",
       "    </tr>\n",
       "    <tr>\n",
       "      <th>19</th>\n",
       "      <td>1.0</td>\n",
       "      <td>86419.70</td>\n",
       "      <td>7.468365e+09</td>\n",
       "      <td>6.454138e+14</td>\n",
       "    </tr>\n",
       "    <tr>\n",
       "      <th>20</th>\n",
       "      <td>1.0</td>\n",
       "      <td>76253.86</td>\n",
       "      <td>5.814651e+09</td>\n",
       "      <td>4.433896e+14</td>\n",
       "    </tr>\n",
       "    <tr>\n",
       "      <th>21</th>\n",
       "      <td>1.0</td>\n",
       "      <td>78389.47</td>\n",
       "      <td>6.144909e+09</td>\n",
       "      <td>4.816962e+14</td>\n",
       "    </tr>\n",
       "    <tr>\n",
       "      <th>22</th>\n",
       "      <td>1.0</td>\n",
       "      <td>73994.56</td>\n",
       "      <td>5.475195e+09</td>\n",
       "      <td>4.051346e+14</td>\n",
       "    </tr>\n",
       "    <tr>\n",
       "      <th>23</th>\n",
       "      <td>1.0</td>\n",
       "      <td>67532.53</td>\n",
       "      <td>4.560643e+09</td>\n",
       "      <td>3.079917e+14</td>\n",
       "    </tr>\n",
       "    <tr>\n",
       "      <th>24</th>\n",
       "      <td>1.0</td>\n",
       "      <td>77044.01</td>\n",
       "      <td>5.935779e+09</td>\n",
       "      <td>4.573163e+14</td>\n",
       "    </tr>\n",
       "    <tr>\n",
       "      <th>25</th>\n",
       "      <td>1.0</td>\n",
       "      <td>64664.71</td>\n",
       "      <td>4.181525e+09</td>\n",
       "      <td>2.703971e+14</td>\n",
       "    </tr>\n",
       "    <tr>\n",
       "      <th>26</th>\n",
       "      <td>1.0</td>\n",
       "      <td>75328.87</td>\n",
       "      <td>5.674439e+09</td>\n",
       "      <td>4.274491e+14</td>\n",
       "    </tr>\n",
       "    <tr>\n",
       "      <th>27</th>\n",
       "      <td>1.0</td>\n",
       "      <td>72107.60</td>\n",
       "      <td>5.199506e+09</td>\n",
       "      <td>3.749239e+14</td>\n",
       "    </tr>\n",
       "    <tr>\n",
       "      <th>28</th>\n",
       "      <td>1.0</td>\n",
       "      <td>66051.52</td>\n",
       "      <td>4.362803e+09</td>\n",
       "      <td>2.881698e+14</td>\n",
       "    </tr>\n",
       "    <tr>\n",
       "      <th>29</th>\n",
       "      <td>1.0</td>\n",
       "      <td>65605.48</td>\n",
       "      <td>4.304079e+09</td>\n",
       "      <td>2.823712e+14</td>\n",
       "    </tr>\n",
       "    <tr>\n",
       "      <th>30</th>\n",
       "      <td>1.0</td>\n",
       "      <td>61994.48</td>\n",
       "      <td>3.843316e+09</td>\n",
       "      <td>2.382643e+14</td>\n",
       "    </tr>\n",
       "    <tr>\n",
       "      <th>31</th>\n",
       "      <td>1.0</td>\n",
       "      <td>61136.38</td>\n",
       "      <td>3.737657e+09</td>\n",
       "      <td>2.285068e+14</td>\n",
       "    </tr>\n",
       "    <tr>\n",
       "      <th>32</th>\n",
       "      <td>1.0</td>\n",
       "      <td>63408.86</td>\n",
       "      <td>4.020684e+09</td>\n",
       "      <td>2.549470e+14</td>\n",
       "    </tr>\n",
       "    <tr>\n",
       "      <th>33</th>\n",
       "      <td>1.0</td>\n",
       "      <td>55493.95</td>\n",
       "      <td>3.079578e+09</td>\n",
       "      <td>1.708980e+14</td>\n",
       "    </tr>\n",
       "    <tr>\n",
       "      <th>34</th>\n",
       "      <td>1.0</td>\n",
       "      <td>46426.07</td>\n",
       "      <td>2.155380e+09</td>\n",
       "      <td>1.000658e+14</td>\n",
       "    </tr>\n",
       "    <tr>\n",
       "      <th>35</th>\n",
       "      <td>1.0</td>\n",
       "      <td>46014.02</td>\n",
       "      <td>2.117290e+09</td>\n",
       "      <td>9.742503e+13</td>\n",
       "    </tr>\n",
       "    <tr>\n",
       "      <th>36</th>\n",
       "      <td>1.0</td>\n",
       "      <td>28663.76</td>\n",
       "      <td>8.216111e+08</td>\n",
       "      <td>2.355046e+13</td>\n",
       "    </tr>\n",
       "    <tr>\n",
       "      <th>37</th>\n",
       "      <td>1.0</td>\n",
       "      <td>44069.95</td>\n",
       "      <td>1.942160e+09</td>\n",
       "      <td>8.559092e+13</td>\n",
       "    </tr>\n",
       "    <tr>\n",
       "      <th>38</th>\n",
       "      <td>1.0</td>\n",
       "      <td>20229.59</td>\n",
       "      <td>4.092363e+08</td>\n",
       "      <td>8.278683e+12</td>\n",
       "    </tr>\n",
       "    <tr>\n",
       "      <th>39</th>\n",
       "      <td>1.0</td>\n",
       "      <td>38558.51</td>\n",
       "      <td>1.486759e+09</td>\n",
       "      <td>5.732720e+13</td>\n",
       "    </tr>\n",
       "    <tr>\n",
       "      <th>40</th>\n",
       "      <td>1.0</td>\n",
       "      <td>28754.33</td>\n",
       "      <td>8.268115e+08</td>\n",
       "      <td>2.377441e+13</td>\n",
       "    </tr>\n",
       "    <tr>\n",
       "      <th>41</th>\n",
       "      <td>1.0</td>\n",
       "      <td>27892.92</td>\n",
       "      <td>7.780150e+08</td>\n",
       "      <td>2.170111e+13</td>\n",
       "    </tr>\n",
       "    <tr>\n",
       "      <th>42</th>\n",
       "      <td>1.0</td>\n",
       "      <td>23640.93</td>\n",
       "      <td>5.588936e+08</td>\n",
       "      <td>1.321276e+13</td>\n",
       "    </tr>\n",
       "    <tr>\n",
       "      <th>43</th>\n",
       "      <td>1.0</td>\n",
       "      <td>15505.73</td>\n",
       "      <td>2.404277e+08</td>\n",
       "      <td>3.728006e+12</td>\n",
       "    </tr>\n",
       "    <tr>\n",
       "      <th>44</th>\n",
       "      <td>1.0</td>\n",
       "      <td>22177.74</td>\n",
       "      <td>4.918522e+08</td>\n",
       "      <td>1.090817e+13</td>\n",
       "    </tr>\n",
       "    <tr>\n",
       "      <th>45</th>\n",
       "      <td>1.0</td>\n",
       "      <td>1000.23</td>\n",
       "      <td>1.000460e+06</td>\n",
       "      <td>1.000690e+09</td>\n",
       "    </tr>\n",
       "    <tr>\n",
       "      <th>46</th>\n",
       "      <td>1.0</td>\n",
       "      <td>1315.46</td>\n",
       "      <td>1.730435e+06</td>\n",
       "      <td>2.276318e+09</td>\n",
       "    </tr>\n",
       "    <tr>\n",
       "      <th>47</th>\n",
       "      <td>1.0</td>\n",
       "      <td>0.00</td>\n",
       "      <td>0.000000e+00</td>\n",
       "      <td>0.000000e+00</td>\n",
       "    </tr>\n",
       "    <tr>\n",
       "      <th>48</th>\n",
       "      <td>1.0</td>\n",
       "      <td>542.05</td>\n",
       "      <td>2.938182e+05</td>\n",
       "      <td>1.592642e+08</td>\n",
       "    </tr>\n",
       "    <tr>\n",
       "      <th>49</th>\n",
       "      <td>1.0</td>\n",
       "      <td>0.00</td>\n",
       "      <td>0.000000e+00</td>\n",
       "      <td>0.000000e+00</td>\n",
       "    </tr>\n",
       "  </tbody>\n",
       "</table>\n",
       "</div>"
      ],
      "text/plain": [
       "    rnd0       rnd1          rnd2          rnd3\n",
       "0    1.0  165349.20  2.734036e+10  4.520706e+15\n",
       "1    1.0  162597.70  2.643801e+10  4.298760e+15\n",
       "2    1.0  153441.51  2.354430e+10  3.612672e+15\n",
       "3    1.0  144372.41  2.084339e+10  3.009211e+15\n",
       "4    1.0  142107.34  2.019450e+10  2.869786e+15\n",
       "5    1.0  131876.90  1.739152e+10  2.293539e+15\n",
       "6    1.0  134615.46  1.812132e+10  2.439410e+15\n",
       "7    1.0  130298.13  1.697760e+10  2.212150e+15\n",
       "8    1.0  120542.52  1.453050e+10  1.751543e+15\n",
       "9    1.0  123334.88  1.521149e+10  1.876108e+15\n",
       "10   1.0  101913.08  1.038628e+10  1.058497e+15\n",
       "11   1.0  100671.96  1.013484e+10  1.020295e+15\n",
       "12   1.0   93863.75  8.810404e+09  8.269775e+14\n",
       "13   1.0   91992.39  8.462600e+09  7.784948e+14\n",
       "14   1.0  119943.24  1.438638e+10  1.725549e+15\n",
       "15   1.0  114523.61  1.311566e+10  1.502052e+15\n",
       "16   1.0   78013.11  6.086045e+09  4.747913e+14\n",
       "17   1.0   94657.16  8.959978e+09  8.481261e+14\n",
       "18   1.0   91749.16  8.417908e+09  7.723360e+14\n",
       "19   1.0   86419.70  7.468365e+09  6.454138e+14\n",
       "20   1.0   76253.86  5.814651e+09  4.433896e+14\n",
       "21   1.0   78389.47  6.144909e+09  4.816962e+14\n",
       "22   1.0   73994.56  5.475195e+09  4.051346e+14\n",
       "23   1.0   67532.53  4.560643e+09  3.079917e+14\n",
       "24   1.0   77044.01  5.935779e+09  4.573163e+14\n",
       "25   1.0   64664.71  4.181525e+09  2.703971e+14\n",
       "26   1.0   75328.87  5.674439e+09  4.274491e+14\n",
       "27   1.0   72107.60  5.199506e+09  3.749239e+14\n",
       "28   1.0   66051.52  4.362803e+09  2.881698e+14\n",
       "29   1.0   65605.48  4.304079e+09  2.823712e+14\n",
       "30   1.0   61994.48  3.843316e+09  2.382643e+14\n",
       "31   1.0   61136.38  3.737657e+09  2.285068e+14\n",
       "32   1.0   63408.86  4.020684e+09  2.549470e+14\n",
       "33   1.0   55493.95  3.079578e+09  1.708980e+14\n",
       "34   1.0   46426.07  2.155380e+09  1.000658e+14\n",
       "35   1.0   46014.02  2.117290e+09  9.742503e+13\n",
       "36   1.0   28663.76  8.216111e+08  2.355046e+13\n",
       "37   1.0   44069.95  1.942160e+09  8.559092e+13\n",
       "38   1.0   20229.59  4.092363e+08  8.278683e+12\n",
       "39   1.0   38558.51  1.486759e+09  5.732720e+13\n",
       "40   1.0   28754.33  8.268115e+08  2.377441e+13\n",
       "41   1.0   27892.92  7.780150e+08  2.170111e+13\n",
       "42   1.0   23640.93  5.588936e+08  1.321276e+13\n",
       "43   1.0   15505.73  2.404277e+08  3.728006e+12\n",
       "44   1.0   22177.74  4.918522e+08  1.090817e+13\n",
       "45   1.0    1000.23  1.000460e+06  1.000690e+09\n",
       "46   1.0    1315.46  1.730435e+06  2.276318e+09\n",
       "47   1.0       0.00  0.000000e+00  0.000000e+00\n",
       "48   1.0     542.05  2.938182e+05  1.592642e+08\n",
       "49   1.0       0.00  0.000000e+00  0.000000e+00"
      ]
     },
     "execution_count": 35,
     "metadata": {},
     "output_type": "execute_result"
    }
   ],
   "source": [
    "rnd\n"
   ]
  },
  {
   "cell_type": "code",
   "execution_count": 36,
   "id": "eb1ba82f-31da-4091-b96d-184ba59dc482",
   "metadata": {},
   "outputs": [],
   "source": [
    "data_new1=pd.concat([rnd,ms,data_proc],axis=1).drop([\"R&D Spend\",'Marketing Spend'],axis=1)"
   ]
  },
  {
   "cell_type": "code",
   "execution_count": 40,
   "id": "0f948a0c-f9ef-43a1-8ae0-9858f9b2936f",
   "metadata": {},
   "outputs": [],
   "source": [
    "x_new1=data_new1.drop(['Profit','State'],axis=1)"
   ]
  },
  {
   "cell_type": "code",
   "execution_count": 41,
   "id": "24597462-ff52-45b1-8068-52e59c08b080",
   "metadata": {},
   "outputs": [],
   "source": [
    "y_new1=data_new1[\"Profit\"]"
   ]
  },
  {
   "cell_type": "code",
   "execution_count": 42,
   "id": "f1ecbb94-1e09-4b83-adb7-8961eae8f105",
   "metadata": {},
   "outputs": [],
   "source": [
    "model12=LinearRegression().fit(x_new1,y_new1)"
   ]
  },
  {
   "cell_type": "code",
   "execution_count": 43,
   "id": "3e88af67-84c4-46ed-b578-2f757c318ac4",
   "metadata": {},
   "outputs": [
    {
     "data": {
      "text/plain": [
       "0.9619360951580704"
      ]
     },
     "execution_count": 43,
     "metadata": {},
     "output_type": "execute_result"
    }
   ],
   "source": [
    "model12.score(x_new1,y_new1)"
   ]
  },
  {
   "cell_type": "code",
   "execution_count": 44,
   "id": "95ebd3c5-a574-4b10-943e-4c856a67d966",
   "metadata": {},
   "outputs": [
    {
     "data": {
      "text/plain": [
       "array([188633.46897008, 194835.62354157, 186612.2163069 , 174556.30611111,\n",
       "       174110.92398759, 158414.63322054, 157975.44608784, 160021.6649505 ,\n",
       "       148667.77287387, 152523.44394342, 130664.63605145, 131171.16715099,\n",
       "       126244.22345342, 125134.93836891, 147679.01011291, 142752.87974485,\n",
       "       118037.99432177, 127517.26543273, 126072.33818655, 120348.74399099,\n",
       "       117544.24332959, 118165.01943379, 116184.24834343, 113021.0807508 ,\n",
       "       109593.24971261, 102582.01433293, 107820.97068421, 111335.01432265,\n",
       "       101852.9722893 , 101607.19546904,  99876.32009694,  98976.03284137,\n",
       "       102150.4800104 , 103456.65620212,  96712.96071344,  96869.68003452,\n",
       "        81216.99308093,  95212.84857015,  71119.98476752,  88850.27683639,\n",
       "        79220.95400307,  78097.24529878,  72142.00989949,  61982.43078316,\n",
       "        71077.1179599 ,  43567.54117091,  46792.91132559,  41921.25833211,\n",
       "        43921.96179974,  35785.59079714])"
      ]
     },
     "execution_count": 44,
     "metadata": {},
     "output_type": "execute_result"
    }
   ],
   "source": [
    "model12.predict(x_new1)"
   ]
  },
  {
   "cell_type": "code",
   "execution_count": 47,
   "id": "50e0d9d3-2842-4435-a1b4-193a2cada5bc",
   "metadata": {},
   "outputs": [],
   "source": [
    "pd.to_pickle(model12,\"startup profit.pkl\")"
   ]
  },
  {
   "cell_type": "code",
   "execution_count": null,
   "id": "34d7212e-1af1-4d92-b8dd-58f82b30ecd4",
   "metadata": {},
   "outputs": [],
   "source": []
  }
 ],
 "metadata": {
  "kernelspec": {
   "display_name": "Python 3",
   "language": "python",
   "name": "python3"
  },
  "language_info": {
   "codemirror_mode": {
    "name": "ipython",
    "version": 3
   },
   "file_extension": ".py",
   "mimetype": "text/x-python",
   "name": "python",
   "nbconvert_exporter": "python",
   "pygments_lexer": "ipython3",
   "version": "3.8.8"
  }
 },
 "nbformat": 4,
 "nbformat_minor": 5
}
