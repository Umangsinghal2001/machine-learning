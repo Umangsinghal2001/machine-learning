{
 "cells": [
  {
   "cell_type": "code",
   "execution_count": 29,
   "id": "4246f08a-1b3f-47cb-bbcd-ea04920cc7ab",
   "metadata": {},
   "outputs": [],
   "source": [
    "import tkinter as tk\n",
    "import pandas as pd\n",
    "import numpy as np\n",
    "import matplotlib.pylab as mlt\n",
    "import seaborn\n",
    "from sklearn import preprocessing as pp"
   ]
  },
  {
   "cell_type": "code",
   "execution_count": null,
   "id": "cb7b7ce4-a079-4e6b-8801-c7721b719901",
   "metadata": {},
   "outputs": [
    {
     "name": "stdout",
     "output_type": "stream",
     "text": [
      "working on it\n"
     ]
    }
   ],
   "source": [
    "\n",
    "m=pd.read_pickle(\"startup profit.pkl\")\n",
    "\n",
    "app=tk.Tk()\n",
    "app.geometry(\"350x285\")\n",
    "app.title(\"startup profit\")\n",
    "input1=tk.Variable(app)\n",
    "input2=tk.Variable(app)\n",
    "input3=tk.Variable(app)\n",
    "input4=tk.Variable(app,\"0\")\n",
    "\n",
    "tk.Entry(textvariable=input1).place(x=30,y=40)\n",
    "tk.Label(fg=\"blue\",font=(\"arial\",8),text=\"R&D Spend\",).place(x=26,y=25)\n",
    "\n",
    "tk.Entry(textvariable=input2).place(x=30,y=100)\n",
    "tk.Label(fg=\"blue\",font=(\"arial\",8),text=\"Administration\",).place(x=26,y=85)\n",
    "\n",
    "tk.Entry(textvariable=input3).place(x=180,y=40)\n",
    "tk.Label(fg=\"blue\",font=(\"arial\",8),text=\"Marketing Spend\",).place(x=176,y=25)\n",
    "\n",
    "tk.Radiobutton(app,text=\"California\",variable=input4,value=1).place(x=180,y=100)\n",
    "tk.Radiobutton(app,text=\"Florida\",variable=input4,value=2).place(x=180,y=120)\n",
    "tk.Radiobutton(app,text=\"New York\",variable=input4,value=3).place(x=180,y=140)\n",
    "\n",
    "tk.Label(fg=\"blue\",font=(\"calibre\",9),text=\"State\",).place(x=176,y=85)\n",
    "\n",
    "def function():\n",
    "    rnd = pd.DataFrame(pp.PolynomialFeatures(3).fit_transform(np.array(eval(input1.get())).reshape(-1,1)),columns=['rnd0','rnd1','rnd2','rnd3'])\n",
    "    ms = pd.DataFrame(pp.PolynomialFeatures(3).fit_transform(np.array(eval(input3.get())).reshape(-1,1)),columns=['ms0','ms1','ms2','ms3'])\n",
    "    df=pd.DataFrame([eval(input2.get())],columns=[\"Administration\"])\n",
    "    if input4.get()==1:\n",
    "        st=pd.DataFrame([[1],[0],[0]],index=['California','Florida','New York']).T\n",
    "    elif input4.get()==2:\n",
    "        st=pd.DataFrame([[0],[1],[0]],index=['California','Florida','New York']).T\n",
    "    else:\n",
    "        st=pd.DataFrame([[0],[0],[1]],index=['California','Florida','New York']).T\n",
    "    x=pd.concat([rnd,ms,df,st],axis=1)\n",
    "    a=m.predict(x)[0]\n",
    "    result.set(round(a.reshape(-1)[0],2))\n",
    "    print(\"working on it\")\n",
    "        \n",
    "tk.Button(app,text='Show profit prediction',bg=\"green\",fg=\"white\",command=function).place(x=110,y=180)\n",
    "\n",
    "result=tk.Variable(app)\n",
    "\n",
    "tk.Label(textvariable=result,height=3,width=25,borderwidth=2,).place(x=90,y=200)\n",
    "app.mainloop()"
   ]
  },
  {
   "cell_type": "code",
   "execution_count": null,
   "id": "ec6ec6aa-f927-4b76-9d03-4dd9c5317ab9",
   "metadata": {},
   "outputs": [],
   "source": []
  }
 ],
 "metadata": {
  "kernelspec": {
   "display_name": "Python 3",
   "language": "python",
   "name": "python3"
  },
  "language_info": {
   "codemirror_mode": {
    "name": "ipython",
    "version": 3
   },
   "file_extension": ".py",
   "mimetype": "text/x-python",
   "name": "python",
   "nbconvert_exporter": "python",
   "pygments_lexer": "ipython3",
   "version": "3.8.8"
  }
 },
 "nbformat": 4,
 "nbformat_minor": 5
}
