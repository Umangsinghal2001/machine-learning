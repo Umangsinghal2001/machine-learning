{
 "cells": [
  {
   "cell_type": "code",
   "execution_count": 41,
   "id": "ab271b96-c015-4711-8ab1-54d5f6e1b129",
   "metadata": {},
   "outputs": [],
   "source": [
    "import tkinter as tk\n",
    "import pandas as pd\n",
    "import warnings\n",
    "warnings.filterwarnings(\"ignore\")\n"
   ]
  },
  {
   "cell_type": "code",
   "execution_count": null,
   "id": "163bf030-56f6-47d2-ba24-7b789af2e764",
   "metadata": {},
   "outputs": [
    {
     "name": "stderr",
     "output_type": "stream",
     "text": [
      "Exception in Tkinter callback\n",
      "Traceback (most recent call last):\n",
      "  File \"C:\\Users\\hp1\\anaconda3\\lib\\tkinter\\__init__.py\", line 1892, in __call__\n",
      "    return self.func(*args)\n",
      "  File \"<ipython-input-42-2811dd153849>\", line 31, in recommend\n",
      "    recom.drop(inp,axis=0, inplace=True)\n",
      "  File \"C:\\Users\\hp1\\anaconda3\\lib\\site-packages\\pandas\\core\\frame.py\", line 4308, in drop\n",
      "    return super().drop(\n",
      "  File \"C:\\Users\\hp1\\anaconda3\\lib\\site-packages\\pandas\\core\\generic.py\", line 4153, in drop\n",
      "    obj = obj._drop_axis(labels, axis, level=level, errors=errors)\n",
      "  File \"C:\\Users\\hp1\\anaconda3\\lib\\site-packages\\pandas\\core\\generic.py\", line 4188, in _drop_axis\n",
      "    new_axis = axis.drop(labels, errors=errors)\n",
      "  File \"C:\\Users\\hp1\\anaconda3\\lib\\site-packages\\pandas\\core\\indexes\\base.py\", line 5591, in drop\n",
      "    raise KeyError(f\"{labels[mask]} not found in axis\")\n",
      "KeyError: \"['Heavyweights (1994)'] not found in axis\"\n"
     ]
    }
   ],
   "source": [
    "\n",
    "\n",
    "\n",
    "df=pd.read_csv('u.data',sep='\\t',names=['user_id','item_id','rating','ts'])\n",
    "cols=\"item_id|title| release date | video release date |\\\n",
    "              IMDb URL | unknown | Action | Adventure | Animation |\\\n",
    "              Children's | Comedy | Crime | Documentary | Drama | Fantasy |\\\n",
    "              Film-Noir | Horror | Musical | Mystery | Romance | Sci-Fi |\\\n",
    "              Thriller | War | Western |\".split(sep=\"|\")\n",
    "movies=pd.read_csv(\"u.item\",sep=\"|\",names=cols)\n",
    "df2=df.drop(\"ts\",axis=1)\n",
    "rate_count=data.groupby(\"title\")[\"rating\"].count()\n",
    "data=df2.merge(movies[[\"title\",'item_id']],on='item_id')\n",
    "\n",
    "\n",
    "df_pivot= data.pivot_table(index=\"user_id\",columns=\"title\",values='rating') \n",
    "\n",
    "app=tk.Tk()\n",
    "app.geometry('400x400')\n",
    "app.title(\"movie recommender\")\n",
    "listbox=tk.Listbox(app,height=20,width=30,bg=\"white\",fg=\"black\")\n",
    "listbox.place(x=20,y=20)\n",
    "\n",
    "for i,t in enumerate(data['title'].unique()):\n",
    "    listbox.insert(i+1,t)\n",
    "\n",
    "    \n",
    "\n",
    "def recommend():\n",
    "    inp = listbox.get(listbox.curselection())\n",
    "    sim_df = pd.DataFrame(df_pivot.corrwith(df_pivot[inp]),columns=['corr'])\n",
    "    sim_df['count'] = rate_count\n",
    "    recom = sim_df[(sim_df['count']>100)].sort_values('corr',ascending=False)\n",
    "    recom.drop(inp,axis=0, inplace=True)\n",
    "    recommended = recom.index[:3]\n",
    "    result1.set(recommended[0])\n",
    "    result2.set(recommended[1])\n",
    "    result3.set(recommended[2])\n",
    "\n",
    "    \n",
    "tk.Button(app,text=\"show recommendation\",command=recommend,background=\"green\",foreground=\"white\").place(x=250,y=30)\n",
    "\n",
    "result2=tk.Variable(app)\n",
    "result2.set(\"results!\")\n",
    "tk.Label(app,textvariable=result2).place(x=250,y=100)\n",
    "\n",
    "result1=tk.Variable(app)\n",
    "result1.set(\"results!\")\n",
    "tk.Label(app,textvariable=result1).place(x=250,y=70)\n",
    "\n",
    "result3=tk.Variable(app)\n",
    "result3.set(\"results!\")\n",
    "tk.Label(app,textvariable=result3).place(x=250,y=130)\n",
    "\n",
    "app.mainloop()"
   ]
  },
  {
   "cell_type": "code",
   "execution_count": null,
   "id": "ba648e63-02b4-4506-b20a-953b3346b53b",
   "metadata": {},
   "outputs": [],
   "source": []
  },
  {
   "cell_type": "code",
   "execution_count": 3,
   "id": "ff273934-545f-48b8-8bec-88f5ba2dc025",
   "metadata": {},
   "outputs": [],
   "source": []
  },
  {
   "cell_type": "code",
   "execution_count": null,
   "id": "6a7a6344-a57a-434d-b462-a2e0ab09a21e",
   "metadata": {},
   "outputs": [],
   "source": []
  }
 ],
 "metadata": {
  "kernelspec": {
   "display_name": "Python 3",
   "language": "python",
   "name": "python3"
  },
  "language_info": {
   "codemirror_mode": {
    "name": "ipython",
    "version": 3
   },
   "file_extension": ".py",
   "mimetype": "text/x-python",
   "name": "python",
   "nbconvert_exporter": "python",
   "pygments_lexer": "ipython3",
   "version": "3.8.8"
  }
 },
 "nbformat": 4,
 "nbformat_minor": 5
}
