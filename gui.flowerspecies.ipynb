{
 "cells": [
  {
   "cell_type": "code",
   "execution_count": 1,
   "id": "18394e68-e1ee-4330-9330-7b24b1dd98a3",
   "metadata": {},
   "outputs": [],
   "source": [
    "import tkinter as tk"
   ]
  },
  {
   "cell_type": "code",
   "execution_count": 2,
   "id": "73a40e23-433f-4290-9847-86bc514e0e1c",
   "metadata": {},
   "outputs": [],
   "source": [
    "import pandas as pd\n",
    "import numpy as np"
   ]
  },
  {
   "cell_type": "code",
   "execution_count": null,
   "id": "18453bf2-da84-4bd3-99c8-d023aca2adea",
   "metadata": {},
   "outputs": [],
   "source": []
  },
  {
   "cell_type": "code",
   "execution_count": null,
   "id": "f9071e36-1569-4b14-a0ab-e5dfb8f99479",
   "metadata": {
    "tags": []
   },
   "outputs": [],
   "source": [
    "app=tk.Tk()\n",
    "app.geometry(\"350x285\")\n",
    "app.title(\"flower species classification\")\n",
    "m=pd.read_pickle(\"flower_species.pkl\")\n",
    "\n",
    "input1=tk.Variable(app)\n",
    "input2=tk.Variable(app)\n",
    "input3=tk.Variable(app)\n",
    "input4=tk.Variable(app)\n",
    "\n",
    "tk.Entry(textvariable=input1).place(x=30,y=40)\n",
    "tk.Label(fg=\"blue\",font=(\"arial\",10),text=\"sepal length (cm)\",).place(x=26,y=20)\n",
    "\n",
    "tk.Entry(textvariable=input2).place(x=30,y=100)\n",
    "tk.Label(fg=\"blue\",font=(\"arial\",10),text=\"sepal width (cm)\",).place(x=26,y=80)\n",
    "\n",
    "tk.Entry(textvariable=input3).place(x=180,y=40)\n",
    "tk.Label(fg=\"blue\",font=(\"arial\",10),text=\"petal length (cm)\",).place(x=176,y=20)\n",
    "\n",
    "tk.Entry(textvariable=input4).place(x=180,y=100)\n",
    "tk.Label(fg=\"blue\",font=(\"arial\",10),text=\"petal width (cm)\",).place(x=176,y=80)\n",
    "\n",
    "\n",
    "def function():\n",
    "    sl = eval(input1.get())\n",
    "    sw = eval(input2.get())\n",
    "    pl = eval(input3.get())\n",
    "    pw = eval(input4.get())\n",
    "    query = pd.DataFrame({'sl':[sl],'sw':[sw], 'pl':[pl],'pw':[pw]})\n",
    "    a=m.predict(query)[0]\n",
    "    op=a.reshape(-1)[0]\n",
    "    if op==0:\n",
    "      result.set(\"Iris-Setosa\")\n",
    "    elif op==1:\n",
    "      result.set(\"Iris-Versicolour\")\n",
    "    else:\n",
    "      result.set(\"Iris-Virginica\")\n",
    "    \n",
    "        \n",
    "        \n",
    "\n",
    "result=tk.Variable(app)\n",
    "result.set(\"ENTER THE ABOVE DETAILS TO FIND OUT THE SPECIES OF IRIS\")\n",
    "tk.Label(textvariable=result,height=7,width=50,borderwidth=2,).place(x=1,y=180)\n",
    "\n",
    "tk.Button(app,text='FIND OUT',bg=\"green\",fg=\"white\",command=function).place(x=130,y=150)\n",
    "\n",
    "\n",
    "app.mainloop()"
   ]
  },
  {
   "cell_type": "code",
   "execution_count": null,
   "id": "603fb79d-2c99-4818-98df-518c58a5f544",
   "metadata": {
    "tags": []
   },
   "outputs": [],
   "source": []
  },
  {
   "cell_type": "code",
   "execution_count": null,
   "id": "c4db2ca7-782b-4bc4-9a4a-700bf2cae995",
   "metadata": {},
   "outputs": [],
   "source": []
  }
 ],
 "metadata": {
  "kernelspec": {
   "display_name": "Python 3",
   "language": "python",
   "name": "python3"
  },
  "language_info": {
   "codemirror_mode": {
    "name": "ipython",
    "version": 3
   },
   "file_extension": ".py",
   "mimetype": "text/x-python",
   "name": "python",
   "nbconvert_exporter": "python",
   "pygments_lexer": "ipython3",
   "version": "3.8.8"
  }
 },
 "nbformat": 4,
 "nbformat_minor": 5
}
