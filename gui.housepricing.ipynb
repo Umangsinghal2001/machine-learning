{
 "cells": [
  {
   "cell_type": "code",
   "execution_count": 1,
   "id": "18394e68-e1ee-4330-9330-7b24b1dd98a3",
   "metadata": {},
   "outputs": [],
   "source": [
    "import tkinter as tk"
   ]
  },
  {
   "cell_type": "code",
   "execution_count": 6,
   "id": "73a40e23-433f-4290-9847-86bc514e0e1c",
   "metadata": {},
   "outputs": [],
   "source": [
    "import pandas as pd\n",
    "import numpy as np"
   ]
  },
  {
   "cell_type": "code",
   "execution_count": null,
   "id": "18453bf2-da84-4bd3-99c8-d023aca2adea",
   "metadata": {},
   "outputs": [],
   "source": []
  },
  {
   "cell_type": "code",
   "execution_count": 24,
   "id": "f9071e36-1569-4b14-a0ab-e5dfb8f99479",
   "metadata": {
    "tags": []
   },
   "outputs": [],
   "source": [
    "app=tk.Tk()\n",
    "app.geometry(\"350x285\")\n",
    "app.title(\"house price predictor\")\n",
    "m=pd.read_pickle(\"house price predictor.pkl\")\n",
    "\n",
    "input1=tk.Variable(app)\n",
    "input2=tk.Variable(app)\n",
    "input3=tk.Variable(app)\n",
    "input4=tk.Variable(app)\n",
    "\n",
    "tk.Entry(textvariable=input1).place(x=30,y=40)\n",
    "tk.Label(fg=\"blue\",font=(\"arial\",6),text=\"AVERAGE INCOME OF THE AREA\",).place(x=26,y=25)\n",
    "\n",
    "tk.Entry(textvariable=input2).place(x=30,y=100)\n",
    "tk.Label(fg=\"blue\",font=(\"arial\",6),text=\"Avg. Area House Age \",).place(x=26,y=85)\n",
    "\n",
    "tk.Entry(textvariable=input3).place(x=180,y=40)\n",
    "tk.Label(fg=\"blue\",font=(\"arial\",6),text=\"Avg. Area Number of Rooms\",).place(x=176,y=25)\n",
    "\n",
    "tk.Entry(textvariable=input4).place(x=180,y=100)\n",
    "tk.Label(fg=\"blue\",font=(\"arial\",6),text=\"Area Population\",).place(x=176,y=85)\n",
    "\n",
    "\n",
    "def function():\n",
    "    inc = eval(input1.get())\n",
    "    age = eval(input2.get())\n",
    "    room = eval(input3.get())\n",
    "    pop = eval(input4.get())\n",
    "    query = pd.DataFrame({'income':[inc],'house_age':[age], 'rooms':[room],'population':[pop]})\n",
    "    a=m.predict(query)[0]\n",
    "    result.set(round(a.reshape(-1)[0],2))\n",
    "\n",
    "result=tk.Variable(app)\n",
    "result.set(\"Enter the details in above boxes!!\")\n",
    "tk.Label(textvariable=result,height=3,width=25,borderwidth=2,).place(x=90,y=200)\n",
    "\n",
    "tk.Button(app,text='show price prediction',bg=\"green\",fg=\"white\",command=function).place(x=110,y=150)\n",
    "\n",
    "\n",
    "app.mainloop()"
   ]
  },
  {
   "cell_type": "code",
   "execution_count": null,
   "id": "603fb79d-2c99-4818-98df-518c58a5f544",
   "metadata": {
    "tags": []
   },
   "outputs": [],
   "source": []
  }
 ],
 "metadata": {
  "kernelspec": {
   "display_name": "Python 3",
   "language": "python",
   "name": "python3"
  },
  "language_info": {
   "codemirror_mode": {
    "name": "ipython",
    "version": 3
   },
   "file_extension": ".py",
   "mimetype": "text/x-python",
   "name": "python",
   "nbconvert_exporter": "python",
   "pygments_lexer": "ipython3",
   "version": "3.8.8"
  }
 },
 "nbformat": 4,
 "nbformat_minor": 5
}
