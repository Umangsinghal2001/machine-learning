{
 "cells": [
  {
   "cell_type": "code",
   "execution_count": 20,
   "id": "1403d85d-f205-4c61-8942-884e1c23ff83",
   "metadata": {},
   "outputs": [],
   "source": [
    "import numpy as np\n",
    "import pandas as pd"
   ]
  },
  {
   "cell_type": "code",
   "execution_count": 2,
   "id": "1d701aa3-1429-49c0-b6ca-c2298f02a0b7",
   "metadata": {},
   "outputs": [],
   "source": [
    "m=pd.read_pickle(\"house price predictor.pkl\")"
   ]
  },
  {
   "cell_type": "code",
   "execution_count": 3,
   "id": "f8a317fe-623b-4671-b604-3832c7ab75ce",
   "metadata": {},
   "outputs": [
    {
     "data": {
      "text/plain": [
       "LinearRegression()"
      ]
     },
     "execution_count": 3,
     "metadata": {},
     "output_type": "execute_result"
    }
   ],
   "source": [
    "m"
   ]
  },
  {
   "cell_type": "code",
   "execution_count": 4,
   "id": "92dd767b-ef2c-459f-b950-555b3efd9d23",
   "metadata": {},
   "outputs": [
    {
     "name": "stdin",
     "output_type": "stream",
     "text": [
      "enter yhe income 50000\n",
      "enter yhe age 5\n",
      "enter yhe room 5\n",
      "enter yhe population 30000\n"
     ]
    }
   ],
   "source": [
    "inc=eval(input(\"enter yhe income\"))\n",
    "age=eval(input(\"enter yhe age\"))\n",
    "room=eval(input(\"enter yhe room\"))\n",
    "pop=eval(input(\"enter yhe population\"))\n",
    "query=pd.DataFrame({\"inc\":[inc],\"age\":[age],\"room\":[room],\"pop\":[pop]})"
   ]
  },
  {
   "cell_type": "code",
   "execution_count": 5,
   "id": "9e1846d9-05e3-4eae-b3b1-8a2aea89bebf",
   "metadata": {},
   "outputs": [
    {
     "data": {
      "text/html": [
       "<div>\n",
       "<style scoped>\n",
       "    .dataframe tbody tr th:only-of-type {\n",
       "        vertical-align: middle;\n",
       "    }\n",
       "\n",
       "    .dataframe tbody tr th {\n",
       "        vertical-align: top;\n",
       "    }\n",
       "\n",
       "    .dataframe thead th {\n",
       "        text-align: right;\n",
       "    }\n",
       "</style>\n",
       "<table border=\"1\" class=\"dataframe\">\n",
       "  <thead>\n",
       "    <tr style=\"text-align: right;\">\n",
       "      <th></th>\n",
       "      <th>inc</th>\n",
       "      <th>age</th>\n",
       "      <th>room</th>\n",
       "      <th>pop</th>\n",
       "    </tr>\n",
       "  </thead>\n",
       "  <tbody>\n",
       "    <tr>\n",
       "      <th>0</th>\n",
       "      <td>50000</td>\n",
       "      <td>5</td>\n",
       "      <td>5</td>\n",
       "      <td>30000</td>\n",
       "    </tr>\n",
       "  </tbody>\n",
       "</table>\n",
       "</div>"
      ],
      "text/plain": [
       "     inc  age  room    pop\n",
       "0  50000    5     5  30000"
      ]
     },
     "execution_count": 5,
     "metadata": {},
     "output_type": "execute_result"
    }
   ],
   "source": [
    "query"
   ]
  },
  {
   "cell_type": "code",
   "execution_count": 29,
   "id": "6b432bdd-db9b-4957-a5ac-b547abfa2208",
   "metadata": {},
   "outputs": [
    {
     "data": {
      "text/plain": [
       "334666.81323838234"
      ]
     },
     "execution_count": 29,
     "metadata": {},
     "output_type": "execute_result"
    }
   ],
   "source": [
    "\n"
   ]
  },
  {
   "cell_type": "code",
   "execution_count": 31,
   "id": "0ddbf6c5-fe11-4a78-8c16-b22b831ad1d2",
   "metadata": {},
   "outputs": [
    {
     "data": {
      "text/plain": [
       "334666.81"
      ]
     },
     "execution_count": 31,
     "metadata": {},
     "output_type": "execute_result"
    }
   ],
   "source": [
    "round(a.reshape(-1)[0],2)"
   ]
  },
  {
   "cell_type": "code",
   "execution_count": null,
   "id": "8b725d15-3610-4cf0-a5c4-c8bdd407db41",
   "metadata": {},
   "outputs": [],
   "source": []
  }
 ],
 "metadata": {
  "kernelspec": {
   "display_name": "Python 3",
   "language": "python",
   "name": "python3"
  },
  "language_info": {
   "codemirror_mode": {
    "name": "ipython",
    "version": 3
   },
   "file_extension": ".py",
   "mimetype": "text/x-python",
   "name": "python",
   "nbconvert_exporter": "python",
   "pygments_lexer": "ipython3",
   "version": "3.8.8"
  }
 },
 "nbformat": 4,
 "nbformat_minor": 5
}
